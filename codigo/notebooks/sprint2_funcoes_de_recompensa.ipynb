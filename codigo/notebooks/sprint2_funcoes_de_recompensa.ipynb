{
  "nbformat": 4,
  "nbformat_minor": 0,
  "metadata": {
    "colab": {
      "provenance": []
    },
    "kernelspec": {
      "name": "python3",
      "display_name": "Python 3"
    },
    "language_info": {
      "name": "python"
    }
  },
  "cells": [
    {
      "cell_type": "markdown",
      "source": [
        "# Funções e valores auxiliares\n"
      ],
      "metadata": {
        "id": "WTlCpujyqqAK"
      }
    },
    {
      "cell_type": "markdown",
      "source": [
        "## Calculo CDI\n",
        "\n",
        "O cálculo do CDI em ativos de renda fixa sintética, conforme descrito no projeto TAPI do BTG Pactual, envolve várias etapas matemáticas:\n",
        "\n",
        "**Taxa Interna de Retorno (TIR):** A TIR é calculada com base na diferença entre o preço de um contrato a termo e o preço de uma negociação à vista de uma ação. Matematicamente, é expressa como:\n",
        "\n",
        "$TIR = \\frac{Preço \\ Médio \\ Venda}{Preço \\ Médio \\ Compra} - 1$\n",
        "\n",
        "**Anualização da TIR:** Para comparar essa taxa com o CDI, que é uma taxa anual, a TIR é anualizada. A fórmula para anualizar a TIR é:\n",
        "\n",
        "$\\text{TIR ANUALIZADA} = (1 + TIR)^{\\frac{252}{\\text{dias úteis}}} - 1 $\n",
        "\n",
        "Aqui, \"252\" representa o número de dias úteis em um ano e \"dias úteis\" é o número de dias úteis entre a data da operação e o vencimento do contrato a termo.\n",
        "\n",
        "**Cálculo do %CDI:** Por fim, a rentabilidade do ativo em termos de %CDI é calculada comparando a TIR anualizada com a taxa anualizada do DI (Depósito Interbancário) para o período:\n",
        "\n",
        "$ \\text{%CDI} = \\frac{\\text{TIR Anualizada}}{\\text{Taxa Anualizada do DI}} \\times 100\\% $\n",
        "\n"
      ],
      "metadata": {
        "id": "X3YYPCGmtDig"
      }
    },
    {
      "cell_type": "code",
      "source": [
        "def calcular_cdi(dias_uteis, preco_medio_compra, preco_medio_venda, taxa_di):\n",
        "    rentabilidade = ((preco_medio_venda / preco_medio_compra) - 1)\n",
        "    rentabilidade_anualizada = ((1 + rentabilidade) ** (252 / dias_uteis)) - 1\n",
        "\n",
        "    cdi = (rentabilidade_anualizada / taxa_di) * 100\n",
        "\n",
        "\n",
        "    return cdi"
      ],
      "metadata": {
        "id": "hcwhe-37qo22"
      },
      "execution_count": 2,
      "outputs": []
    },
    {
      "cell_type": "code",
      "source": [
        "# Teste de Sanidade\n",
        "cdi = calcular_cdi(19, 58.36317, 58.946802, 0.11295)\n",
        "cdi"
      ],
      "metadata": {
        "colab": {
          "base_uri": "https://localhost:8080/"
        },
        "id": "K63rVowYBGtM",
        "outputId": "7ae34dd9-51fd-4988-a92a-78b85ba637d4"
      },
      "execution_count": 3,
      "outputs": [
        {
          "output_type": "execute_result",
          "data": {
            "text/plain": [
              "124.9024958621961"
            ]
          },
          "metadata": {},
          "execution_count": 3
        }
      ]
    },
    {
      "cell_type": "code",
      "source": [
        "# Teste de Sanidade\n",
        "cdi = calcular_cdi(19, 58.44, 58.946802, 0.11295)\n",
        "cdi"
      ],
      "metadata": {
        "colab": {
          "base_uri": "https://localhost:8080/"
        },
        "id": "-eZcYfJmd-Av",
        "outputId": "59bed710-9728-4d83-f6ef-81cced84a0e3"
      },
      "execution_count": 4,
      "outputs": [
        {
          "output_type": "execute_result",
          "data": {
            "text/plain": [
              "107.42823894120413"
            ]
          },
          "metadata": {},
          "execution_count": 4
        }
      ]
    },
    {
      "cell_type": "markdown",
      "source": [
        "## Avaliação do Desempenho por Faixa CDI\n",
        "\n",
        "A fim de otimizar a taxa do CDI em torno dos 100% em nossas combinações, optamos por descrever um método que penaliza ou recompensa de acordo com faixas de CDI.\n",
        "\n",
        "1º Caso: $100 ≤ CDI ≤ 105$\n",
        "Para este caso, estaremos recompensando o agente com um valor constante de 1.\n",
        "\n",
        "2º Caso: $105 < CDI < 120$\n",
        "Neste caso, aplicamos uma recompensa ponderada, utilizando a distância entre o valor obtido e nosso alvo de CDI para dividir a recompensa constante de 1.\n",
        "\n",
        "3º caso:\n",
        "Casos onde o CDI ultrapassa essas limitações, tanto para valores acima como abaixo, será penalizada com um valor constante de -1.\n",
        "\n",
        "Além do mais, analisamos a variância dos resultados, afim de mitigar a transferência de riqueszas. A variância tem um papel crucial na identificação e mitigação da transferência de riquezas. Matematicamente, a variância (σ²) de um conjunto de valores é calculada como:\n",
        "\n",
        "$ \\sigma^2 = \\frac{1}{N} \\sum_{i=1}^{N} (x_i - \\mu)^2 $\n",
        "\n",
        "onde:\n",
        "- $( x_i )$ é cada valor individual no conjunto de dados (por exemplo, os valores de CDI para diferentes combinações),\n",
        "- $( \\mu )$ é a média desses valores,\n",
        "- $( N )$ é o número total de valores.\n",
        "\n",
        "\n",
        "Portanto, ao considerar a variância na função de recompensa, é possível desenvolver uma abordagem mais equilibrada e menos arriscada para a otimização do CDI, mitigando efetivamente a transferência de riquezas.\n",
        "\n",
        "Ademais, também valorizamos o fracionamentos de ativos comprados, visando a melhor combinação possível."
      ],
      "metadata": {
        "id": "2TQmJBHTuFcQ"
      }
    },
    {
      "cell_type": "code",
      "source": [
        "def avaliar_cdi_e_variancia(cdi_novo, VALOR_BOM_CDI, MAX_VALOR_BOM_CDI, CONSTANTE_RECOMPENSA, variancia_nova, variancia_antiga, fracionado):\n",
        "    recompensa = 0\n",
        "\n",
        "    if VALOR_BOM_CDI <= cdi_novo <= MAX_VALOR_BOM_CDI:\n",
        "        recompensa += CONSTANTE_RECOMPENSA\n",
        "\n",
        "    elif MAX_VALOR_BOM_CDI < cdi_novo < 120:\n",
        "        recompensa += CONSTANTE_RECOMPENSA / (cdi_novo - MAX_VALOR_BOM_CDI)\n",
        "\n",
        "    if fracionado:\n",
        "      recompensa += CONSTANTE_RECOMPENSA\n",
        "\n",
        "    if (variancia_nova and variancia_antiga) is not None and (variancia_nova > variancia_antiga):\n",
        "      recompensa += CONSTANTE_RECOMPENSA\n",
        "\n",
        "    return recompensa"
      ],
      "metadata": {
        "id": "XgAGMSt8uKoe"
      },
      "execution_count": 5,
      "outputs": []
    },
    {
      "cell_type": "markdown",
      "source": [
        "# Função de recompensa 1\n",
        "\n",
        "A primeira função de recompensa, utilza como base a premissa anterior, utilizando a lógica das faias de CDI.\n"
      ],
      "metadata": {
        "id": "taxvydH0B7qc"
      }
    },
    {
      "cell_type": "code",
      "source": [
        "def recompensa_1(quantidade_acoes_adicionadas, preco_medio_venda, preco_medio_compra, variancia_antiga, cdi_antigo, taxa_di, preco_acao_nova, fracionado):\n",
        "    \"\"\"\n",
        "    :param quantidade_acoes_adicionadas: Quantidade de ações adicionadas até o momento.\n",
        "    :param preco_medio_venda: Preço médio de venda.\n",
        "    :param preco_medio_compra: Preço médio de compra.\n",
        "    :param variancia_antiga: Variância antiga.\n",
        "    :param cdi_antigo: CDI antigo.\n",
        "    :param taxa_di: Taxa DI.\n",
        "    :param preco_acao_nova: Preço da nova ação.\n",
        "    :param fracionado: Booleano indicando se é fracionado.\n",
        "    :return: Valor de recompensa calculado.\n",
        "    \"\"\"\n",
        "    CONSTANTE_RECOMPENSA = 1\n",
        "    VALOR_BOM_CDI = 100\n",
        "    MAX_VALOR_BOM_CDI = 105\n",
        "    PENALIDADE = 1\n",
        "    recompensa = 1e-3\n",
        "\n",
        "    cdi_novo = calcular_cdi(19, preco_medio_compra, preco_medio_venda, taxa_di)\n",
        "\n",
        "    distancia_cdi_antiga = abs(cdi_antigo - VALOR_BOM_CDI)\n",
        "    distancia_cdi_nova = abs(cdi_novo - VALOR_BOM_CDI)\n",
        "    variancia_nova = ((variancia_antiga * (quantidade_acoes_adicionadas - 1)) + ((preco_acao_nova - preco_medio_compra)**2)) / quantidade_acoes_adicionadas\n",
        "\n",
        "    if distancia_cdi_antiga > distancia_cdi_nova:\n",
        "        recompensa += avaliar_cdi_e_variancia(cdi_novo, VALOR_BOM_CDI, MAX_VALOR_BOM_CDI, CONSTANTE_RECOMPENSA, variancia_nova, variancia_antiga, fracionado)\n",
        "\n",
        "    elif distancia_cdi_antiga == 0 and distancia_cdi_nova == 0 and variancia_nova > variancia_antiga:\n",
        "        recompensa += CONSTANTE_RECOMPENSA\n",
        "\n",
        "    elif cdi_novo > 120 or cdi_novo < 98:\n",
        "        recompensa -= PENALIDADE\n",
        "\n",
        "    # Garantir que a recompensa esteja dentro de um intervalo razoável\n",
        "    # recompensa = max(min(recompensa, 1), -1)\n",
        "\n",
        "    return recompensa, cdi_novo, variancia_nova\n",
        "\n"
      ],
      "metadata": {
        "id": "TqahL5f7t9u-"
      },
      "execution_count": 6,
      "outputs": []
    },
    {
      "cell_type": "markdown",
      "source": [
        "## Cenários de teste para a função de recompensa 1\n"
      ],
      "metadata": {
        "id": "mD5GdmlOMCv7"
      }
    },
    {
      "cell_type": "code",
      "source": [
        "def d_variancia(variancia_antiga, variancia_nova):\n",
        "  if (variancia_nova - variancia_antiga < 0) :\n",
        "    return ((variancia_nova/variancia_antiga) * 100) * -1\n",
        "\n",
        "  return (variancia_nova/variancia_antiga) * 100\n"
      ],
      "metadata": {
        "id": "rBRmkQc4J3Hl"
      },
      "execution_count": 7,
      "outputs": []
    },
    {
      "cell_type": "code",
      "source": [
        "# Cenário 1.A: CDI ideal, variância nova maior a variância antiga, não fracionado\n",
        "recompensa_cenario_1, cdi_1, variancia_1 = recompensa_1(\n",
        "    quantidade_acoes_adicionadas=3,\n",
        "    preco_medio_venda=58.901,\n",
        "    preco_medio_compra=58.391,\n",
        "    variancia_antiga=0.1,\n",
        "    cdi_antigo=103,\n",
        "    taxa_di=0.12,\n",
        "    preco_acao_nova=55.5,\n",
        "    fracionado=False\n",
        ")\n",
        "\n",
        "print('\\n')\n",
        "print('--------------- Cenário 1.A Recompensa 1: cenário de CDI ideal, variância nova maior que a antiga, não fracionado ----------------')\n",
        "print('Recompensa : ', recompensa_cenario_1)\n",
        "print('CDI: ', cdi_1, '%')\n",
        "print('Diferença da variância: ', d_variancia(0.1, variancia_1), '%' )\n",
        "\n",
        "# Cenário 1.B: CDI ideal, variância nova menor a variância antiga, não fracionado\n",
        "recompensa_cenario_2, cdi_2, variancia_2 = recompensa_1(\n",
        "    quantidade_acoes_adicionadas=3,\n",
        "    preco_medio_venda=58.901,\n",
        "    preco_medio_compra=58.391,\n",
        "    variancia_antiga=0.5,\n",
        "    cdi_antigo=103,\n",
        "    taxa_di=0.12,\n",
        "    preco_acao_nova=58.5,\n",
        "    fracionado=False\n",
        ")\n",
        "\n",
        "\n",
        "print('\\n')\n",
        "print('--------------- Cenário 1.B Recompensa 2: cenário de CDI ideal, variância nova menor que a antiga, não fracionado ----------------')\n",
        "print('Recompensa : ', recompensa_cenario_2)\n",
        "print('CDI: ', cdi_2, '%')\n",
        "print('Diferença da variância: ', d_variancia(0.5, variancia_2), '%' )\n",
        "\n",
        "# Cenário 2.A: CDI ideal, mesma variância, fracionado\n",
        "recompensa_cenario_3, cdi_3, variancia_3 = recompensa_1(\n",
        "    quantidade_acoes_adicionadas=3,\n",
        "    preco_medio_venda=58.9012,\n",
        "    preco_medio_compra=58.400,\n",
        "    variancia_antiga=0,\n",
        "    cdi_antigo=103,\n",
        "    taxa_di=0.12,\n",
        "    preco_acao_nova=58.400,\n",
        "    fracionado=True\n",
        ")\n",
        "\n",
        "print('\\n')\n",
        "print('--------------- Cenário 2.A Recompensa 1: cenário de CDI ideal, variância igual que a antiga, fracionado ----------------')\n",
        "print('Recompensa : ', recompensa_cenario_3)\n",
        "print('CDI: ', cdi_3, '%')\n",
        "print('Diferença da variância: ', d_variancia(0.5, variancia_3), '%' )\n",
        "\n",
        "# Cenário 2.B: CDI ideal, mesma variância, não fracionado\n",
        "recompensa_cenario_4, cdi_4, variancia_4 = recompensa_1(\n",
        "    quantidade_acoes_adicionadas=3,\n",
        "    preco_medio_venda=58.9012,\n",
        "    preco_medio_compra=58.400,\n",
        "    variancia_antiga=0,\n",
        "    cdi_antigo=103,\n",
        "    taxa_di=0.12,\n",
        "    preco_acao_nova=58.400,\n",
        "    fracionado=False\n",
        ")\n",
        "\n",
        "print('\\n')\n",
        "print('--------------- Cenário 2.B Recompensa 2: cenário de CDI ideal, variância igual que a antiga, não fracionado ----------------')\n",
        "print('Recompensa : ', recompensa_cenario_4)\n",
        "print('CDI: ', cdi_4, '%')\n",
        "print('Diferença da variância: ', d_variancia(0.5 , variancia_4), '%' )\n",
        "\n",
        "# Cenário 3: CDI baixo\n",
        "recompensa_cenario_5, cdi_5, variancia_5 = recompensa_1(\n",
        "    quantidade_acoes_adicionadas=20,\n",
        "    preco_medio_venda=59.6,\n",
        "    preco_medio_compra=58,\n",
        "    variancia_antiga=2,\n",
        "    cdi_antigo=104,\n",
        "    taxa_di=0.9,\n",
        "    preco_acao_nova=51.1,\n",
        "    fracionado=True\n",
        ")\n",
        "\n",
        "print('\\n')\n",
        "print('--------------- Cenário 3: cenário de CDI baixo ----------------')\n",
        "print('Recompensa : ', recompensa_cenario_5)\n",
        "print('CDI: ', cdi_5, '%')\n",
        "\n",
        "\n",
        "\n",
        "# Cenário 4: CDI alto\n",
        "recompensa_cenario_6, cdi_6, variancia_6 = recompensa_1(\n",
        "    quantidade_acoes_adicionadas=20,\n",
        "    preco_medio_venda=59.6,\n",
        "    preco_medio_compra=55,\n",
        "    variancia_antiga=2,\n",
        "    cdi_antigo=104,\n",
        "    taxa_di=0.9,\n",
        "    preco_acao_nova=51.1,\n",
        "    fracionado=True\n",
        ")\n",
        "\n",
        "print('\\n')\n",
        "print('--------------- Cenário 4: cenário de CDI alto ----------------')\n",
        "print('Recompensa : ', recompensa_cenario_6)\n",
        "print('CDI: ', cdi_6, '%')"
      ],
      "metadata": {
        "colab": {
          "base_uri": "https://localhost:8080/"
        },
        "id": "cADJ13jEMKKK",
        "outputId": "55a406af-a168-44b3-8a0d-486c027092c3"
      },
      "execution_count": 8,
      "outputs": [
        {
          "output_type": "stream",
          "name": "stdout",
          "text": [
            "\n",
            "\n",
            "--------------- Cenário 1.A Recompensa 1: cenário de CDI ideal, variância nova maior que a antiga, não fracionado ----------------\n",
            "Recompensa :  2.001\n",
            "CDI:  101.87949115173328 %\n",
            "Diferença da variância:  2852.6269999999963 %\n",
            "\n",
            "\n",
            "--------------- Cenário 1.B Recompensa 2: cenário de CDI ideal, variância nova menor que a antiga, não fracionado ----------------\n",
            "Recompensa :  1.001\n",
            "CDI:  101.87949115173328 %\n",
            "Diferença da variância:  -67.45873333333337 %\n",
            "\n",
            "\n",
            "--------------- Cenário 2.A Recompensa 1: cenário de CDI ideal, variância igual que a antiga, fracionado ----------------\n",
            "Recompensa :  2.001\n",
            "CDI:  100.01177284573097 %\n",
            "Diferença da variância:  -0.0 %\n",
            "\n",
            "\n",
            "--------------- Cenário 2.B Recompensa 2: cenário de CDI ideal, variância igual que a antiga, não fracionado ----------------\n",
            "Recompensa :  1.001\n",
            "CDI:  100.01177284573097 %\n",
            "Diferença da variância:  -0.0 %\n",
            "\n",
            "\n",
            "--------------- Cenário 3: cenário de CDI baixo ----------------\n",
            "Recompensa :  -0.999\n",
            "CDI:  48.2950198561134 %\n",
            "\n",
            "\n",
            "--------------- Cenário 4: cenário de CDI alto ----------------\n",
            "Recompensa :  -0.999\n",
            "CDI:  211.31023784861455 %\n"
          ]
        }
      ]
    },
    {
      "cell_type": "markdown",
      "source": [
        "Avaliando os cenários propostos, é possível verificar que as funções de recompensa estão performando de maneira adequada:\n",
        "\n",
        "1. Os cenários 1 e 2 propuseram um CDI ideal, avaliando como os parâmetros de fracionamento mudariam a recompensa. É visto que o fracionamento e uma maior variância resultam em um aumento constante da recompensa.\n",
        "\n",
        "2. Dados os cenários de alto e baixo CDI, são irrelevantes os parâmetros de fracionamento e variância, visto que o objetivo principal não foi alcançado."
      ],
      "metadata": {
        "id": "lzp5lSYZPkAn"
      }
    },
    {
      "cell_type": "code",
      "source": [
        "import numpy as np\n",
        "import matplotlib.pyplot as plt\n",
        "\n",
        "def testar_recompensa_1(n=1000):\n",
        "  # Gerando dados aleatórios para os parâmetros\n",
        "  preco_medio_compra = np.random.uniform(58.44, 58.387, n)\n",
        "  preco_medio_venda = 58.946802\n",
        "  cdi_antigo = np.random.uniform(100, 120, n)\n",
        "  taxa_di = 0.11295\n",
        "  fracionado = np.random.choice([True, False], n)\n",
        "  variancia_antiga = np.random.uniform(0.0, 0.3, n)\n",
        "  quantidade_acoes_adicionadas = np.random.randint(1, 10, n)\n",
        "  preco_acao_nova = np.random.uniform(58.44, 58.387, n)\n",
        "\n",
        "  recompensas = []\n",
        "  cdis = []\n",
        "  variancias = []\n",
        "\n",
        "  for i in range(n):\n",
        "      recompensa, cdi, variancia = recompensa_1(quantidade_acoes_adicionadas[i], preco_medio_venda, preco_medio_compra[i], variancia_antiga[i], cdi_antigo[i], taxa_di,  preco_acao_nova[i], fracionado[i])\n",
        "      recompensas.append(recompensa)\n",
        "      cdis.append(cdi)\n",
        "      variancias.append(variancia)\n",
        "\n",
        "  return recompensas, cdis, variancias\n",
        "\n",
        "# Testando a função de recompensa_1\n",
        "recompensas, cdis, variancias = testar_recompensa_1()\n",
        "\n",
        "# Calculando métricas\n",
        "media_recompensa_1 = np.mean(recompensas)\n",
        "desvio_padrao_recompensa_1 = np.std(recompensas)\n",
        "\n",
        "\n",
        "# Calculando métricas\n",
        "media_recompensa_2 = np.mean(cdis)\n",
        "\n",
        "# Calculando métricas\n",
        "media_recompensa_3 = np.mean(variancias)\n",
        "\n",
        "\n",
        "# Gerando gráficos\n",
        "plt.hist(recompensas, bins=20, color='blue', alpha=0.7)\n",
        "plt.title('Distribuição das Recompensas - Função 1')\n",
        "plt.xlabel('Recompensa')\n",
        "plt.ylabel('Frequência')\n",
        "plt.show()\n",
        "\n",
        "# Exibindo métricas\n",
        "print('Média das Recompensas:', media_recompensa_1)\n",
        "print('Média dos CDIs:', media_recompensa_2)\n",
        "print('Média da Variância: ', media_recompensa_3, '\\n')\n",
        "\n",
        "desvio_padrao_recompensa_1"
      ],
      "metadata": {
        "colab": {
          "base_uri": "https://localhost:8080/",
          "height": 559
        },
        "outputId": "2288ef88-b3ad-4693-ff33-bcdb252c8c3c",
        "id": "woI-NZHpr5sZ"
      },
      "execution_count": 9,
      "outputs": [
        {
          "output_type": "display_data",
          "data": {
            "text/plain": [
              "<Figure size 640x480 with 1 Axes>"
            ],
            "image/png": "[encoded data removed]"
          },
          "metadata": {}
        },
        {
          "output_type": "stream",
          "name": "stdout",
          "text": [
            "Média das Recompensas: 0.21908421812630582\n",
            "Média dos CDIs: 113.53986011888391\n",
            "Média da Variância:  0.09953257898098006 \n",
            "\n"
          ]
        },
        {
          "output_type": "execute_result",
          "data": {
            "text/plain": [
              "0.4340398243388826"
            ]
          },
          "metadata": {},
          "execution_count": 9
        }
      ]
    },
    {
      "cell_type": "markdown",
      "source": [
        "Através de valores aleatórios dentro de uma faixa de preços que permitem CDIs entre 106% e 119%, podemos mensurar como nossa função de recompensa reage ao cálculo ponderado, através da distância. Contudo, percebe-se que a variância e o corte através da distância dos CDIs desempenham um papel crucial e fazem com que a distribuição tenda a dar valores menores que 0.4.\n",
        "\n",
        "Contudo, vale ressaltar que há necessidade de uma análise mais clínica sobre essas distribuições e analisar parâmetro por parâmetro."
      ],
      "metadata": {
        "id": "4J2rwncVuaU_"
      }
    },
    {
      "cell_type": "markdown",
      "source": [
        "# Função de Recompensa 2\n",
        "\n",
        "Para a segunda função de recompensa, temos a mesma lógica das faixas de CDI apresentadas na função anterior. Contudo, esta não considera a abordagem da variância e apenas leva em conta o fracionamento junto ao valor do CDI. Percebe-se também que não há corte caso a distância do novo CDI seja maior do que o anterior.\n",
        "\n",
        "O intuito dessa função é comparar como a variância e o corte pela disância irão afetar os resultados obtidos."
      ],
      "metadata": {
        "id": "sIUFGg8FL25U"
      }
    },
    {
      "cell_type": "code",
      "source": [
        "def recompensa_2(preco_medio_venda, preco_medio_compra, cdi_antigo, taxa_di, fracionado):\n",
        "  \"\"\"\n",
        "  :param preco_medio_venda: Preço médio de venda.\n",
        "  :param preco_medio_compra: Preço médio de compra.\n",
        "  :param cdi_antigo: CDI antigo.\n",
        "  :param taxa_di: Taxa DI.\n",
        "  :param fracionado: Booleano indicando se é fracionado.\n",
        "  :return: Valor de recompensa calculado.\n",
        "  \"\"\"\n",
        "  CONSTANTE_RECOMPENSA = 1\n",
        "  VALOR_BOM_CDI = 100\n",
        "  MAX_VALOR_BOM_CDI = 105\n",
        "  PENALIDADE = 1\n",
        "  recompensa = 1e-3\n",
        "\n",
        "  cdi_novo = calcular_cdi(19, preco_medio_compra, preco_medio_venda, taxa_di)\n",
        "  recompensa += avaliar_cdi_e_variancia(cdi_novo, VALOR_BOM_CDI, MAX_VALOR_BOM_CDI, CONSTANTE_RECOMPENSA, None, None, fracionado)\n",
        "\n",
        "  if cdi_novo > 120 or cdi_novo < 98:\n",
        "      recompensa -= PENALIDADE\n",
        "\n",
        "  return recompensa, cdi_novo\n"
      ],
      "metadata": {
        "id": "LB44zbibL5UL"
      },
      "execution_count": 10,
      "outputs": []
    },
    {
      "cell_type": "markdown",
      "source": [
        "## Cenários de teste para a função de recompensa 2"
      ],
      "metadata": {
        "id": "XBcvEBI4NrpD"
      }
    },
    {
      "cell_type": "code",
      "source": [
        "# Cenário 1.A: CDI ideal, fracionado\n",
        "recompensa_cenario_1b, cdi_1b = recompensa_2(\n",
        "    preco_medio_venda=58.901,\n",
        "    preco_medio_compra=58.391,\n",
        "    cdi_antigo=103,\n",
        "    taxa_di=0.12,\n",
        "    fracionado=True\n",
        ")\n",
        "\n",
        "print('\\n')\n",
        "print('--------------- Cenário 1.A Recompensa 1: cenário de CDI ideal, fracionado ----------------')\n",
        "print('Recompensa : ', recompensa_cenario_1b)\n",
        "print('CDI: ', cdi_1b, '%')\n",
        "\n",
        "# Cenário 1.B: CDI ideal, não fracionado\n",
        "recompensa_cenario_2b, cdi_2b = recompensa_2(\n",
        "    preco_medio_venda=58.901,\n",
        "    preco_medio_compra=58.391,\n",
        "    cdi_antigo=103,\n",
        "    taxa_di=0.12,\n",
        "    fracionado=False\n",
        ")\n",
        "\n",
        "\n",
        "print('\\n')\n",
        "print('--------------- Cenário 1.B Recompensa 2: cenário de CDI ideal, não fracionado ----------------')\n",
        "print('Recompensa : ', recompensa_cenario_2b)\n",
        "print('CDI: ', cdi_2b, '%')\n",
        "\n",
        "\n",
        "# Cenário 2.A: CDI alto, mesma variância, fracionado\n",
        "recompensa_cenario_3b, cdi_3b = recompensa_2(\n",
        "    preco_medio_venda=58.901,\n",
        "    preco_medio_compra=58,\n",
        "    cdi_antigo=103,\n",
        "    taxa_di=0.12,\n",
        "    fracionado=True\n",
        ")\n",
        "\n",
        "print('\\n')\n",
        "print('--------------- Cenário 2.A Recompensa 1: cenário de CDI alto, fracionado ----------------')\n",
        "print('Recompensa : ', recompensa_cenario_3b)\n",
        "print('CDI: ', cdi_3b, '%')\n",
        "\n",
        "\n",
        "# Cenário 2.B: CDI alto, não fracionado\n",
        "recompensa_cenario_4b, cdi_4b = recompensa_2(\n",
        "    preco_medio_venda=58.901,\n",
        "    preco_medio_compra=58,\n",
        "    cdi_antigo=103,\n",
        "    taxa_di=0.12,\n",
        "    fracionado=False\n",
        ")\n",
        "\n",
        "print('\\n')\n",
        "print('--------------- Cenário 2.B Recompensa 2: cenário de CDI alto, não fracionado ----------------')\n",
        "print('Recompensa : ', recompensa_cenario_4b)\n",
        "print('CDI: ', cdi_4b, '%')\n",
        "\n",
        "# Cenário 3.A: CDI baixo, fracionado\n",
        "recompensa_cenario_5b, cdi_5b = recompensa_2(\n",
        "    preco_medio_venda=58.901,\n",
        "    preco_medio_compra=59.0,\n",
        "    cdi_antigo=103,\n",
        "    taxa_di=0.12,\n",
        "    fracionado=True\n",
        ")\n",
        "\n",
        "print('\\n')\n",
        "print('--------------- Cenário 3.A: cenário de CDI baixo, fracionado ----------------')\n",
        "print('Recompensa : ', recompensa_cenario_5b)\n",
        "print('CDI: ', cdi_5b, '%')\n",
        "\n",
        "\n",
        "\n",
        "# Cenário 3.B: CDI baixo, não fracionado\n",
        "recompensa_cenario_6b, cdi_6b = recompensa_2(\n",
        "    preco_medio_venda=59.6,\n",
        "    preco_medio_compra=59,\n",
        "    cdi_antigo=104,\n",
        "    taxa_di=0.9,\n",
        "    fracionado=False\n",
        ")\n",
        "\n",
        "print('\\n')\n",
        "print('--------------- Cenário 3.B: cenário de CDI alto, não fracionado ----------------')\n",
        "print('Recompensa : ', recompensa_cenario_6b)\n",
        "print('CDI: ', cdi_6b, '%')"
      ],
      "metadata": {
        "id": "ZgTbk_PtNvBS",
        "colab": {
          "base_uri": "https://localhost:8080/"
        },
        "outputId": "e2d79055-3ea3-41f7-f2cc-a614930dc130"
      },
      "execution_count": 11,
      "outputs": [
        {
          "output_type": "stream",
          "name": "stdout",
          "text": [
            "\n",
            "\n",
            "--------------- Cenário 1.A Recompensa 1: cenário de CDI ideal, fracionado ----------------\n",
            "Recompensa :  2.001\n",
            "CDI:  101.87949115173328 %\n",
            "\n",
            "\n",
            "--------------- Cenário 1.B Recompensa 2: cenário de CDI ideal, não fracionado ----------------\n",
            "Recompensa :  1.001\n",
            "CDI:  101.87949115173328 %\n",
            "\n",
            "\n",
            "--------------- Cenário 2.A Recompensa 1: cenário de CDI alto, fracionado ----------------\n",
            "Recompensa :  0.0009999999999998899\n",
            "CDI:  189.04415917916734 %\n",
            "\n",
            "\n",
            "--------------- Cenário 2.B Recompensa 2: cenário de CDI alto, não fracionado ----------------\n",
            "Recompensa :  -0.999\n",
            "CDI:  189.04415917916734 %\n",
            "\n",
            "\n",
            "--------------- Cenário 3.A: cenário de CDI baixo, fracionado ----------------\n",
            "Recompensa :  0.0009999999999998899\n",
            "CDI:  -18.356326596703497 %\n",
            "\n",
            "\n",
            "--------------- Cenário 3.B: cenário de CDI alto, não fracionado ----------------\n",
            "Recompensa :  -0.999\n",
            "CDI:  15.957738137394392 %\n"
          ]
        }
      ]
    },
    {
      "cell_type": "markdown",
      "source": [
        "Avaliando os cenários propostos, é possível verificar que as funções de recompensa estão performando de maneira adequada:\n",
        "\n",
        "1. O cenário 1 propôs um CDI ideal, avaliando como o parâmetro de fracionamento mudaria a recompensa. É visto que o fracionamento resulta em um aumento constante da recompensa.\n",
        "\n",
        "2. Como a distância não está sendo considerada, é interessante perceber como, de fato, os valores para o fracionamento impactam muito mais na função de recompensa.unção recompensa."
      ],
      "metadata": {
        "id": "6pAiaG1eYSrq"
      }
    },
    {
      "cell_type": "code",
      "source": [
        "def testar_recompensa_2(n=1000):\n",
        "  # Gerando dados aleatórios para os parâmetros\n",
        "  preco_medio_compra = np.random.uniform(58.44, 58.387, n)\n",
        "  preco_medio_venda = 58.946802\n",
        "  cdi_antigo = np.random.uniform(100, 120, n)\n",
        "  taxa_di = 0.11295\n",
        "  fracionado = np.random.choice([True, False], n)\n",
        "\n",
        "  recompensas = []\n",
        "  cdis = []\n",
        "  variancias = []\n",
        "\n",
        "  for i in range(n):\n",
        "      recompensa, cdi = recompensa_2(preco_medio_venda, preco_medio_compra[i], cdi_antigo[i], taxa_di,  fracionado[i])\n",
        "      recompensas.append(recompensa)\n",
        "      cdis.append(cdi)\n",
        "\n",
        "  return recompensas, cdis\n",
        "\n",
        "# Testando a função de recompensa_1\n",
        "recompensas, cdis = testar_recompensa_2()\n",
        "\n",
        "# Calculando métricas\n",
        "media_recompensa_1 = np.mean(recompensas)\n",
        "desvio_padrao_recompensa_1 = np.std(recompensas)\n",
        "\n",
        "\n",
        "# Calculando métricas\n",
        "media_recompensa_2 = np.mean(cdis)\n",
        "\n",
        "\n",
        "\n",
        "# Gerando gráficos\n",
        "plt.hist(recompensas, bins=20, color='blue', alpha=0.7)\n",
        "plt.title('Distribuição das Recompensas - Função 2')\n",
        "plt.xlabel('Recompensa')\n",
        "plt.ylabel('Frequência')\n",
        "plt.show()\n",
        "\n",
        "# Exibindo métricas\n",
        "print('Média das Recompensas:', media_recompensa_1)\n",
        "print('Média dos CDIs:', media_recompensa_2)\n",
        "\n",
        "desvio_padrao_recompensa_1"
      ],
      "metadata": {
        "colab": {
          "base_uri": "https://localhost:8080/",
          "height": 524
        },
        "outputId": "abdbcb23-fee7-4016-da11-c84ff7ce0b3b",
        "id": "nNthatmhr22e"
      },
      "execution_count": 12,
      "outputs": [
        {
          "output_type": "display_data",
          "data": {
            "text/plain": [
              "<Figure size 640x480 with 1 Axes>"
            ],
            "image/png": "[encoded data removed]"
          },
          "metadata": {}
        },
        {
          "output_type": "stream",
          "name": "stdout",
          "text": [
            "Média das Recompensas: 0.658460234162671\n",
            "Média dos CDIs: 113.52482517998601\n"
          ]
        },
        {
          "output_type": "execute_result",
          "data": {
            "text/plain": [
              "0.508329046748902"
            ]
          },
          "metadata": {},
          "execution_count": 12
        }
      ]
    },
    {
      "cell_type": "markdown",
      "source": [
        "Aqui está uma distribuição de recompensas para os valores que estão entre a faixa de 106% a 120% do CDI. É perceptível, portanto, que o corte por distâncias e variância tendem a proporcionar valores de recompensa menores."
      ],
      "metadata": {
        "id": "TifCGPOEqJEj"
      }
    },
    {
      "cell_type": "markdown",
      "source": [
        "# Função de recompensa 3\n",
        "\n",
        "A terceira função levaria em consideração a criação de um segundo agente. Este agente, seria responsável por pegar combinações que estejam elegíveis para trocarem ações entre si, o propósito da troca seria melhorar as valores de CDI dessas combinações e garantir que sua dispersão entre uma e a outra seja menor.\n",
        "\n",
        "A recompensa será atribuida por um valor constante **1** caso haja melhora nos valores das combinações, de modo que a maior recompensa seja dada as rentabilidades que atendem a faixa **[100, 105]** , que no caso, essa seria nossa faixa de valor ótimo. Outrora, para valores entre **[106, 120]** seria feito uma ponderação de recompensa, ou seja quanto mais perto do 100 haveria maior recompensa.\n",
        "\n",
        "Por fim, caso a troca não for favorável para as combinações, ocorre uma penalidade de valor constante **-1**;"
      ],
      "metadata": {
        "id": "4SbDkUbxF0Jb"
      }
    },
    {
      "cell_type": "code",
      "source": [
        "def recompensa_3(cdi_maior, cdi_maior_pos_troca, cdi_menor, cdi_menor_pos_troca):\n",
        "  \"\"\"\n",
        "  :param cdi_maior : cdi pré troca.\n",
        "  :param cdi_maior_pos_troca : cdi pós troca.\n",
        "  :param cdi_menor : cdi pré troca.\n",
        "  :param cdi_menor_pos_troca : cdi pós troca.\n",
        "  :return: Valor de recompensa calculado.\n",
        "  \"\"\"\n",
        "  MAX_VALOR_ACEITAVEL_CDI = 120\n",
        "  CONSTANTE_RECOMPENSA = 1\n",
        "  VALOR_BOM_CDI = 100\n",
        "  MAX_VALOR_BOM_CDI = 105\n",
        "  PENALIDADE = 1\n",
        "  recompensa = 1e-3\n",
        "\n",
        "  if cdi_maior_pos_troca < cdi_maior and cdi_menor < cdi_menor_pos_troca:\n",
        "    if VALOR_BOM_CDI <= cdi_maior_pos_troca <= MAX_VALOR_BOM_CDI:\n",
        "      recompensa += 1\n",
        "\n",
        "    elif MAX_VALOR_BOM_CDI < cdi_maior_pos_troca <= 120:\n",
        "      recompensa += CONSTANTE_RECOMPENSA * (abs(cdi_maior - cdi_maior_pos_troca)/100)\n",
        "\n",
        "    if VALOR_BOM_CDI <= cdi_menor_pos_troca <= MAX_VALOR_BOM_CDI:\n",
        "      recompensa += 1\n",
        "\n",
        "    elif MAX_VALOR_BOM_CDI < cdi_menor_pos_troca <= 120:\n",
        "      recompensa += CONSTANTE_RECOMPENSA * (abs(cdi_menor - cdi_menor_pos_troca)/100)\n",
        "\n",
        "  else:\n",
        "    recompensa -= PENALIDADE\n",
        "\n",
        "  return recompensa\n",
        "\n",
        "\n",
        "\n"
      ],
      "metadata": {
        "id": "QVozHh_4OBUe"
      },
      "execution_count": 13,
      "outputs": []
    },
    {
      "cell_type": "markdown",
      "source": [
        "## Cenários de Teste"
      ],
      "metadata": {
        "id": "NqTHVqPZ_m5i"
      }
    },
    {
      "cell_type": "markdown",
      "source": [
        "### Cenário Positivo\n",
        "\n",
        "Após a troca de ações entre as combinações, houve diminuição da dispersão entre elas, visto que uma das combinações trouxe uma rentabilidade que ainda estava na faixa de valor ótimo.\n",
        "\n",
        "No caso, o teste estava buscando recompensar a diminuição do CDI 108 para 107 e da permanência do CDI 103 para 104 ainda se mantendo na faixa de valores ótimos, que no caso, é dentre 100 até 105."
      ],
      "metadata": {
        "id": "5So_zi3z-z5x"
      }
    },
    {
      "cell_type": "code",
      "source": [
        "resultado = recompensa_3(108, 107, 103, 104)\n",
        "print(resultado)"
      ],
      "metadata": {
        "colab": {
          "base_uri": "https://localhost:8080/"
        },
        "id": "P_znKgJKyVQ3",
        "outputId": "f5a0655b-90f8-4937-9036-4ce94a1f5c64"
      },
      "execution_count": 14,
      "outputs": [
        {
          "output_type": "stream",
          "name": "stdout",
          "text": [
            "1.011\n"
          ]
        }
      ]
    },
    {
      "cell_type": "markdown",
      "source": [
        "### Cenário Positivo\n",
        "\n",
        "Após as trocas de ações entre as combinações, houve um impacto positivo, devido a rentabilidade de maior valor conseguir se estabilizar e se encaixar na faixa de valor ótimo de CDI, no caso, houve mudança de 106 para 105.\n",
        "\n",
        "Outrora, é importante salientar, que a outra combinação teve sua rentabilidade ainda permanecendo dentro da faixa de valor ótimo de CDI, ou seja, de 103 para 104."
      ],
      "metadata": {
        "id": "_jLz5H7c_uSC"
      }
    },
    {
      "cell_type": "markdown",
      "source": [],
      "metadata": {
        "id": "SVEsZxX8_jme"
      }
    },
    {
      "cell_type": "code",
      "source": [
        "resultado = recompensa_3(106, 105, 103, 104)\n",
        "print(resultado)"
      ],
      "metadata": {
        "colab": {
          "base_uri": "https://localhost:8080/"
        },
        "id": "5DVnR7gp3ts1",
        "outputId": "76e03f9a-c54c-4f5e-8aa4-f7b74e539ecf"
      },
      "execution_count": 15,
      "outputs": [
        {
          "output_type": "stream",
          "name": "stdout",
          "text": [
            "2.001\n"
          ]
        }
      ]
    },
    {
      "cell_type": "markdown",
      "source": [
        "### Cenário Negativo\n",
        "\n",
        "A partir das trocas, as rentabilidades das duas combinações tiveram impactos negativos. No sentido de que a primeira combinação em que havia necessidade de diminuição, houve aumento, e a segunda combinação invés de aumento houve diminuição.\n",
        "\n",
        "Consequentemente, houve maior dispersão entre as rentabilidades, e a situação se agravou, devido a uma das rentabilidades sair da faixa de valor ótimo, no caso, foi de 100 para 99."
      ],
      "metadata": {
        "id": "EUFJvFi6A5jO"
      }
    },
    {
      "cell_type": "code",
      "source": [
        "resultado = recompensa_3(107, 108, 100, 99)\n",
        "print(resultado)"
      ],
      "metadata": {
        "colab": {
          "base_uri": "https://localhost:8080/"
        },
        "id": "TdlOtvm74YnA",
        "outputId": "d3340be2-d4e1-4eb9-af95-9e7c10d78fe6"
      },
      "execution_count": 16,
      "outputs": [
        {
          "output_type": "stream",
          "name": "stdout",
          "text": [
            "-0.999\n"
          ]
        }
      ]
    },
    {
      "cell_type": "markdown",
      "source": [
        "# Função de Recompensa 4\n",
        "\n",
        "A função de recompensa 4 é projetada para avaliar e incentivar a eficiência no tempo. A ideia central é premiar o agente se ele conseguir alcançar um desempenho (medido pelo CDI) em um tempo igual ou menor do que o tempo anterior.\n"
      ],
      "metadata": {
        "id": "OfHpfqODou8r"
      }
    },
    {
      "cell_type": "code",
      "source": [
        "def recompensa_4(cdi_novo, cdi_antigo, tempo_final, tempo_anterior):\n",
        "  CONSTANTE_RECOMPENSA = 1\n",
        "  VALOR_BOM_CDI = 100\n",
        "  recompensa = 1e-3\n",
        "\n",
        "\n",
        "  distancia_cdi_antiga = abs(cdi_antigo - VALOR_BOM_CDI)\n",
        "  distancia_cdi_nova = abs(cdi_novo - VALOR_BOM_CDI)\n",
        "\n",
        "  if (distancia_cdi_nova <= distancia_cdi_antiga):\n",
        "    if tempo_final <= tempo_anterior:\n",
        "        recompensa += CONSTANTE_RECOMPENSA\n",
        "  else:\n",
        "      recompensa -= CONSTANTE_RECOMPENSA\n",
        "\n",
        "  return recompensa\n"
      ],
      "metadata": {
        "id": "HiNxBw25oxj-"
      },
      "execution_count": 20,
      "outputs": []
    },
    {
      "cell_type": "code",
      "source": [
        "# Cenário 1: Tempo Final Pior, mas Distância Melhor\n",
        "cdi_novo_1 = 101\n",
        "cdi_antigo_1 = 102\n",
        "tempo_final_1 = 10\n",
        "tempo_anterior_1 = 8\n",
        "resultado_1 = recompensa_4(cdi_novo_1, cdi_antigo_1, tempo_final_1, tempo_anterior_1)\n",
        "\n",
        "# Cenário 2: Bom Tempo Final e Distância Melhor\n",
        "cdi_novo_2 = 101\n",
        "cdi_antigo_2 = 103\n",
        "tempo_final_2 = 7\n",
        "tempo_anterior_2 = 8\n",
        "resultado_2 = recompensa_4(cdi_novo_2, cdi_antigo_2, tempo_final_2, tempo_anterior_2)\n",
        "\n",
        "# Cenário 3: Pior Distância, mas Melhor Tempo\n",
        "cdi_novo_3 = 105\n",
        "cdi_antigo_3 = 102\n",
        "tempo_final_3 = 7\n",
        "tempo_anterior_3 = 8\n",
        "resultado_3 = recompensa_4(cdi_novo_3, cdi_antigo_3, tempo_final_3, tempo_anterior_3)\n",
        "\n",
        "resultado_1, resultado_2, resultado_3\n"
      ],
      "metadata": {
        "colab": {
          "base_uri": "https://localhost:8080/"
        },
        "id": "XTJQtH_pidwq",
        "outputId": "3073158c-5b52-48e9-ee69-661c3b2f1cdd"
      },
      "execution_count": 21,
      "outputs": [
        {
          "output_type": "execute_result",
          "data": {
            "text/plain": [
              "(0.001, 1.001, -0.999)"
            ]
          },
          "metadata": {},
          "execution_count": 21
        }
      ]
    }
  ]
}