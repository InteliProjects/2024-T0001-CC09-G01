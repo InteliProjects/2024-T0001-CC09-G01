{
  "nbformat": 4,
  "nbformat_minor": 0,
  "metadata": {
    "colab": {
      "provenance": []
    },
    "kernelspec": {
      "name": "python3",
      "display_name": "Python 3"
    },
    "language_info": {
      "name": "python"
    }
  },
  "cells": [
    {
      "cell_type": "markdown",
      "source": [
        "## Inicialização do ambiente e agente"
      ],
      "metadata": {
        "id": "BJEIjoawZE1d"
      }
    },
    {
      "cell_type": "code",
      "source": [
        "# 1. Inicialização\n",
        "# Inicializar o ambiente de treinamento com operações de compra e venda, curva de DI e rentabilidade desejada.\n",
        "ambiente_treinamento = InicializarAmbiente()\n",
        "\n",
        "# 2. Inicialização do Agente\n",
        "# Inicializar a política inicial do agente (pode ser aleatória ou baseada em heurística).\n",
        "agente = InicializarAgente()"
      ],
      "metadata": {
        "id": "edxryhboZL67"
      },
      "execution_count": null,
      "outputs": []
    },
    {
      "cell_type": "markdown",
      "source": [
        "## Treinamento agente\n"
      ],
      "metadata": {
        "id": "5SCwpfWmZOqr"
      }
    },
    {
      "cell_type": "code",
      "source": [
        "# 3. Treinamento do Agente\n",
        "for episodio in range(numero_de_episodios):\n",
        "    # 3.1 Preparação Inicial\n",
        "    estado = ambiente_treinamento.reset()\n",
        "\n",
        "    # 3.2 Iteração com o Ambiente\n",
        "    while not convergiu:\n",
        "        # 3.2.1 Processamento de cada venda\n",
        "        venda_atual = ambiente_treinamento.obter_proxima_venda()\n",
        "\n",
        "        # 3.2.2 Preparação dos Inputs\n",
        "        dados_inputs = preparar_inputs(estado, venda_atual)\n",
        "\n",
        "        # 3.2.3 Inferência pela Rede Neural\n",
        "        acoes_preditas = agente.inferir(dados_inputs)\n",
        "\n",
        "        # 3.2.4 Atualização das Quantidades de Compra\n",
        "        estado = atualizar_quantidades_compra(estado, venda_atual, acoes_preditas)\n",
        "\n",
        "    # 3.3 Atualização da Política do Agente\n",
        "    agente.atualizar_politica(recompensa_episodio, recompensa_cumulativa)\n"
      ],
      "metadata": {
        "id": "gFV703ShZUyU"
      },
      "execution_count": null,
      "outputs": []
    },
    {
      "cell_type": "markdown",
      "source": [
        "## Teste do agente"
      ],
      "metadata": {
        "id": "muMpNNFxZXWi"
      }
    },
    {
      "cell_type": "code",
      "execution_count": null,
      "metadata": {
        "id": "h55yoyIiYF2I"
      },
      "outputs": [],
      "source": [
        "# 4. Teste do Agente\n",
        "# Testar o agente em um ambiente ainda não visto para avaliar a generalização.\n",
        "ambiente_teste = InicializarAmbienteTeste()\n",
        "estado_teste = ambiente_teste.reset()\n",
        "\n",
        "while not convergiu_teste:\n",
        "    venda_teste = ambiente_teste.obter_proxima_venda()\n",
        "    dados_inputs_teste = preparar_inputs(estado_teste, venda_teste)\n",
        "    acoes_preditas_teste = agente.inferir(dados_inputs_teste)\n",
        "    estado_teste = atualizar_quantidades_compra(estado_teste, venda_teste, acoes_preditas_teste)\n",
        "\n",
        "# Funções Auxiliares\n",
        "def preparar_inputs(estado, venda):\n",
        "    # Extrair informações relevantes do estado e da venda\n",
        "    compras_disponiveis = estado['compras_disponiveis']\n",
        "    data_venda, ativo_venda, corretora_venda, cliente_venda = venda['data'], venda['ativo'], venda['corretora'], venda['cliente']\n",
        "\n",
        "    # Filtrar compras disponíveis que correspondem à venda específica\n",
        "    compras_correspondentes = [\n",
        "        compra for compra in compras_disponiveis\n",
        "        if compra['data'] == data_venda and compra['ativo'] == ativo_venda and compra['corretora'] == corretora_venda and compra['cliente'] == cliente_venda\n",
        "    ]\n",
        "\n",
        "    # Criar inputs para a rede neural com base nas compras correspondentes\n",
        "    inputs = {\n",
        "        'dados_compras': extrair_dados_compras(compras_correspondentes),\n",
        "        'dados_venda': extrair_dados_venda(venda),\n",
        "        'curva_di': estado['curva_di'],\n",
        "        'rentabilidade_desejada': estado['rentabilidade_desejada']\n",
        "    }\n",
        "\n",
        "    return inputs\n",
        "\n",
        "def extrair_dados_compras(compras):\n",
        "    # Função auxiliar para extrair os dados relevantes das compras\n",
        "    return [{'quantidade': compra['quantidade'], 'preco_medio': compra['preco_medio']} for compra in compras]\n",
        "\n",
        "def extrair_dados_venda(venda):\n",
        "    # Função auxiliar para extrair os dados relevantes da venda\n",
        "    return {'quantidade': venda['quantidade'], 'preco_medio': venda['preco_medio']}\n",
        "\n",
        "def atualizar_quantidades_compra(estado, venda, acoes_preditas):\n",
        "    # Inicialize um novo estado com base no estado atual\n",
        "    novo_estado = estado.copy()\n",
        "\n",
        "    # Extrair informações relevantes da venda\n",
        "    data_venda, ativo_venda, corretora_venda, cliente_venda = venda['data'], venda['ativo'], venda['corretora'], venda['cliente']\n",
        "\n",
        "    # Inicializar ou obter a estrutura para armazenar as combinações\n",
        "    if 'combinações_realizadas' not in novo_estado:\n",
        "        novo_estado['combinações_realizadas'] = []\n",
        "\n",
        "    # Iterar sobre as ações preditas e atualizar as quantidades disponíveis de compra\n",
        "    for acao, quantidade_predita in enumerate(acoes_preditas):\n",
        "        compra = estado['compras_disponiveis'][acao]\n",
        "\n",
        "        # Garantir que a quantidade predita não exceda a quantidade disponível\n",
        "        quantidade_predita = min(quantidade_predita, compra['quantidade'])\n",
        "\n",
        "        # Reduzir a quantidade disponível com base na ação predita\n",
        "        nova_quantidade_disponivel = compra['quantidade'] - quantidade_predita\n",
        "\n",
        "        # Atualizar a quantidade disponível na cópia do estado\n",
        "        novo_estado['compras_disponiveis'][acao]['quantidade'] = nova_quantidade_disponivel\n",
        "\n",
        "        # Registrar a combinação realizada\n",
        "        combinação = {\n",
        "            'data_venda': data_venda,\n",
        "            'ativo_venda': ativo_venda,\n",
        "            'corretora_venda': corretora_venda,\n",
        "            'cliente_venda': cliente_venda,\n",
        "            'quantidade_compra': quantidade_predita,\n",
        "            'preco_medio_compra': compra['preco_medio']\n",
        "            # Adicionar outras informações relevantes da compra e venda\n",
        "        }\n",
        "\n",
        "        novo_estado['combinações_realizadas'].append(combinação)\n",
        "\n",
        "    return novo_estado\n"
      ]
    }
  ]
}